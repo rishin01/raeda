{
 "cells": [
  {
   "cell_type": "code",
   "execution_count": 157,
   "id": "a03adc58-0e74-4164-b761-00b618350746",
   "metadata": {},
   "outputs": [
    {
     "ename": "ModuleNotFoundError",
     "evalue": "No module named 'raida'",
     "output_type": "error",
     "traceback": [
      "\u001b[0;31m---------------------------------------------------------------------------\u001b[0m",
      "\u001b[0;31mModuleNotFoundError\u001b[0m                       Traceback (most recent call last)",
      "\u001b[0;32m/var/folders/lk/fcs6sdfn55j8d3ps5_x5ntbc0000gn/T/ipykernel_15913/2225666779.py\u001b[0m in \u001b[0;36m<module>\u001b[0;34m\u001b[0m\n\u001b[1;32m      1\u001b[0m \u001b[0;32mimport\u001b[0m \u001b[0mpandas\u001b[0m \u001b[0;32mas\u001b[0m \u001b[0mpd\u001b[0m\u001b[0;34m\u001b[0m\u001b[0;34m\u001b[0m\u001b[0m\n\u001b[0;32m----> 2\u001b[0;31m \u001b[0;32mfrom\u001b[0m \u001b[0mraida\u001b[0m\u001b[0;34m.\u001b[0m\u001b[0mbrownie\u001b[0m\u001b[0;34m.\u001b[0m\u001b[0mscripts\u001b[0m\u001b[0;34m.\u001b[0m\u001b[0mblockchain_interaction\u001b[0m \u001b[0;32mimport\u001b[0m \u001b[0;34m*\u001b[0m\u001b[0;34m\u001b[0m\u001b[0;34m\u001b[0m\u001b[0m\n\u001b[0m\u001b[1;32m      3\u001b[0m \u001b[0mpassenger_destination\u001b[0m \u001b[0;34m=\u001b[0m \u001b[0;34m(\u001b[0m\u001b[0;36m0\u001b[0m\u001b[0;34m,\u001b[0m\u001b[0;36m0\u001b[0m\u001b[0;34m)\u001b[0m\u001b[0;34m\u001b[0m\u001b[0;34m\u001b[0m\u001b[0m\n\u001b[1;32m      4\u001b[0m \u001b[0mpassenger_loc\u001b[0m \u001b[0;34m=\u001b[0m \u001b[0;34m(\u001b[0m\u001b[0;36m1\u001b[0m\u001b[0;34m,\u001b[0m\u001b[0;36m1\u001b[0m\u001b[0;34m)\u001b[0m\u001b[0;34m\u001b[0m\u001b[0;34m\u001b[0m\u001b[0m\n\u001b[1;32m      5\u001b[0m \u001b[0;34m\u001b[0m\u001b[0m\n",
      "\u001b[0;31mModuleNotFoundError\u001b[0m: No module named 'raida'"
     ]
    }
   ],
   "source": [
    "import pandas as pd\n",
    "from raida.brownie.scripts.blockchain_interaction import *\n",
    "passenger_destination = (0,0)\n",
    "passenger_loc = (1,1)\n",
    "\n",
    "cars = pd.DataFrame(data=[[0,1,2,1,1],[2,4,1,2,0],[1,0,1,2,1]],\n",
    "                    index=['car1','car2','car3'],\n",
    "                    columns=['X location', 'Y location', 'Base Price', 'Price/min', 'Available'])\n",
    "\n",
    "# cars = readTaxi()\n",
    "\n",
    "def available(cars):\n",
    "    '''Filters out unavailable cars.'''\n",
    "    return cars.loc[cars.Available==1]\n",
    "\n",
    "def match(passenger,cars):\n",
    "    ''' \n",
    "    Returns the (taxicab) distance of the passenger from each car in cars.\n",
    "    passenger = tuple representing the passenger location\n",
    "    cars = dataframe\n",
    "    \n",
    "    Distance metric can be altered to factor in road network type, driver costs.\n",
    "    '''\n",
    "    cars = available(cars)\n",
    "    \n",
    "    if len(cars)==0:\n",
    "        return None\n",
    "    else:\n",
    "        change_in_loc = cars.loc[:,['X location','Y location']] - passenger\n",
    "        distances = pd.DataFrame(data=change_in_loc.abs().sum(1),\n",
    "                             index=cars.index,\n",
    "                             columns=['Distance'])\n",
    "        match = distances.loc[distances.Distance==distances.Distance.min()]\n",
    "        if len(match)>1: # If there are multiple matches, we select one randomly.\n",
    "            match = match.sample(n=1)\n",
    "            pair(match.index[0])\n",
    "        else:\n",
    "            pair(match.index[0])\n",
    "    return"
   ]
  },
  {
   "cell_type": "code",
   "execution_count": 150,
   "id": "78c10a02-7874-449e-9e74-99b1f0dadb86",
   "metadata": {},
   "outputs": [
    {
     "data": {
      "text/plain": [
       "'car3'"
      ]
     },
     "execution_count": 150,
     "metadata": {},
     "output_type": "execute_result"
    }
   ],
   "source": [
    "match(passenger_loc,cars)"
   ]
  },
  {
   "cell_type": "code",
   "execution_count": null,
   "id": "79292692-ad17-45e6-b6d6-e5c76ab14a4d",
   "metadata": {},
   "outputs": [],
   "source": []
  }
 ],
 "metadata": {
  "kernelspec": {
   "display_name": "Python 3 (ipykernel)",
   "language": "python",
   "name": "python3"
  },
  "language_info": {
   "codemirror_mode": {
    "name": "ipython",
    "version": 3
   },
   "file_extension": ".py",
   "mimetype": "text/x-python",
   "name": "python",
   "nbconvert_exporter": "python",
   "pygments_lexer": "ipython3",
   "version": "3.9.6"
  }
 },
 "nbformat": 4,
 "nbformat_minor": 5
}
