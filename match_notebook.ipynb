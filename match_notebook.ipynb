{
 "cells": [
  {
   "cell_type": "code",
   "execution_count": 2,
   "id": "a03adc58-0e74-4164-b761-00b618350746",
   "metadata": {},
   "outputs": [
    {
     "ename": "SyntaxError",
     "evalue": "invalid syntax (blockchain_interaction.py, line 6)",
     "output_type": "error",
     "traceback": [
      "Traceback \u001b[0;36m(most recent call last)\u001b[0m:\n",
      "  File \u001b[1;32m\"/usr/local/lib/python3.9/site-packages/IPython/core/interactiveshell.py\"\u001b[0m, line \u001b[1;32m3441\u001b[0m, in \u001b[1;35mrun_code\u001b[0m\n    exec(code_obj, self.user_global_ns, self.user_ns)\n",
      "\u001b[0;36m  File \u001b[0;32m\"/var/folders/lk/fcs6sdfn55j8d3ps5_x5ntbc0000gn/T/ipykernel_16901/2337979778.py\"\u001b[0;36m, line \u001b[0;32m2\u001b[0;36m, in \u001b[0;35m<module>\u001b[0;36m\u001b[0m\n\u001b[0;31m    from brookie.scripts.blockchain_interaction import *\u001b[0m\n",
      "\u001b[0;36m  File \u001b[0;32m\"/Users/caitlinfrank/raeda_project/raeda/brookie/scripts/blockchain_interaction.py\"\u001b[0;36m, line \u001b[0;32m6\u001b[0m\n\u001b[0;31m    SC = Contract(<number>) # do we need abi here too? ABI is just a 'list' thing of functions and events\u001b[0m\n\u001b[0m                  ^\u001b[0m\n\u001b[0;31mSyntaxError\u001b[0m\u001b[0;31m:\u001b[0m invalid syntax\n"
     ]
    }
   ],
   "source": [
    "import pandas as pd\n",
    "from brookie.scripts.blockchain_interaction import *\n",
    "passenger_destination = (0,0)\n",
    "passenger_loc = (1,1)\n",
    "\n",
    "cars = pd.DataFrame(data=[[0,1,2,1,1],[2,4,1,2,0],[1,0,1,2,1]],\n",
    "                    index=['car1','car2','car3'],\n",
    "                    columns=['X location', 'Y location', 'Base Price', 'Price/min', 'Available'])\n",
    "\n",
    "# cars = readTaxi()\n",
    "\n",
    "def available(cars):\n",
    "    '''Filters out unavailable cars.'''\n",
    "    return cars.loc[cars.Available==1]\n",
    "\n",
    "def match(passenger,cars):\n",
    "    ''' \n",
    "    Returns the (taxicab) distance of the passenger from each car in cars.\n",
    "    passenger = tuple representing the passenger location\n",
    "    cars = dataframe\n",
    "    \n",
    "    Distance metric can be altered to factor in road network type, driver costs.\n",
    "    '''\n",
    "    cars = available(cars)\n",
    "    \n",
    "    if len(cars)==0:\n",
    "        return None\n",
    "    else:\n",
    "        change_in_loc = cars.loc[:,['X location','Y location']] - passenger\n",
    "        distances = pd.DataFrame(data=change_in_loc.abs().sum(1),\n",
    "                             index=cars.index,\n",
    "                             columns=['Distance'])\n",
    "        match = distances.loc[distances.Distance==distances.Distance.min()]\n",
    "        if len(match)>1: # If there are multiple matches, we select one randomly.\n",
    "            match = match.sample(n=1)\n",
    "            pair(match.index[0])\n",
    "        else:\n",
    "            pair(match.index[0])\n",
    "    return"
   ]
  },
  {
   "cell_type": "code",
   "execution_count": 150,
   "id": "78c10a02-7874-449e-9e74-99b1f0dadb86",
   "metadata": {},
   "outputs": [
    {
     "data": {
      "text/plain": [
       "'car3'"
      ]
     },
     "execution_count": 150,
     "metadata": {},
     "output_type": "execute_result"
    }
   ],
   "source": [
    "match(passenger_loc,cars)"
   ]
  },
  {
   "cell_type": "code",
   "execution_count": 12,
   "id": "79292692-ad17-45e6-b6d6-e5c76ab14a4d",
   "metadata": {},
   "outputs": [
    {
     "data": {
      "text/plain": [
       "X location    0\n",
       "Y location    1\n",
       "Base Price    2\n",
       "Price/min     1\n",
       "Available     1\n",
       "Name: car1, dtype: int64"
      ]
     },
     "execution_count": 12,
     "metadata": {},
     "output_type": "execute_result"
    }
   ],
   "source": [
    "cars = pd.DataFrame(data=[[0,1,2,1,1],[2,4,1,2,0],[1,0,1,2,1]],\n",
    "                    index=['car1','car2','car3'],\n",
    "                    columns=['X location', 'Y location', 'Base Price', 'Price/min', 'Available'])\n",
    "\n",
    "cars.loc['car1']"
   ]
  },
  {
   "cell_type": "code",
   "execution_count": 14,
   "id": "c7d1ed86-2284-403b-ace8-97b370f24f76",
   "metadata": {},
   "outputs": [
    {
     "ename": "SyntaxError",
     "evalue": "invalid syntax (blockchain_interaction.py, line 6)",
     "output_type": "error",
     "traceback": [
      "Traceback \u001b[0;36m(most recent call last)\u001b[0m:\n",
      "  File \u001b[1;32m\"/usr/local/lib/python3.9/site-packages/IPython/core/interactiveshell.py\"\u001b[0m, line \u001b[1;32m3441\u001b[0m, in \u001b[1;35mrun_code\u001b[0m\n    exec(code_obj, self.user_global_ns, self.user_ns)\n",
      "\u001b[0;36m  File \u001b[0;32m\"/var/folders/lk/fcs6sdfn55j8d3ps5_x5ntbc0000gn/T/ipykernel_16901/2591354289.py\"\u001b[0;36m, line \u001b[0;32m2\u001b[0;36m, in \u001b[0;35m<module>\u001b[0;36m\u001b[0m\n\u001b[0;31m    from brookie.scripts.blockchain_interaction import *\u001b[0m\n",
      "\u001b[0;36m  File \u001b[0;32m\"/Users/caitlinfrank/raeda_project/raeda/brookie/scripts/blockchain_interaction.py\"\u001b[0;36m, line \u001b[0;32m6\u001b[0m\n\u001b[0;31m    SC = Contract(<number>) # do we need abi here too? ABI is just a 'list' thing of functions and events\u001b[0m\n\u001b[0m                  ^\u001b[0m\n\u001b[0;31mSyntaxError\u001b[0m\u001b[0;31m:\u001b[0m invalid syntax\n"
     ]
    }
   ],
   "source": [
    "import pandas as pd\n",
    "from brookie.scripts.blockchain_interaction import *\n",
    "\n",
    "# This will eventually be the taxi front end pressing a button to say available\n",
    "taxi_info = pd.Series(data=[1,2,3,4,1],\n",
    "                      index=['X location', 'Y location', 'Flat Rate', 'Price/min', 'Available'],\n",
    "                      name='car4'\n",
    "                     )\n",
    "\n",
    "def set_availability(taxi_info):\n",
    "    '''\n",
    "    add taxi availabile to blockchain dataset (including updates of price etc)\n",
    "    '''\n",
    "    add_taxi(taxi_info)\n",
    "    return\n",
    "\n",
    "# check for broadcast of pair that includes your own address\n",
    "def \n",
    "\n",
    "# check your own wallet to see if payment has been made\n",
    "\n",
    "# once pair is received, send to blockchain that payment is received, and set availabile = 0\n",
    "\n",
    "# check for broadcast of end journey, then set available = 1"
   ]
  },
  {
   "cell_type": "code",
   "execution_count": 6,
   "id": "c7c950ff-d69d-49c8-aa22-13009b9d6955",
   "metadata": {},
   "outputs": [],
   "source": [
    "passenger_data = {'from':'(0,0)', 'to':'(4,4)'}\n",
    "passenger_loc = (int(passenger_data['from'][1]),int(passenger_data['from'][3]))\n",
    "passenger_destination = (int(passenger_data['to'][1]),int(passenger_data['to'][3]))"
   ]
  },
  {
   "cell_type": "code",
   "execution_count": 18,
   "id": "82f584f6-a44a-4e25-a596-d99e3811b071",
   "metadata": {},
   "outputs": [
    {
     "data": {
      "text/plain": [
       "['car1', 'car2', 'car3']"
      ]
     },
     "execution_count": 18,
     "metadata": {},
     "output_type": "execute_result"
    }
   ],
   "source": [
    "import numpy as np\n",
    "import pandas as pd\n",
    "\n",
    "num_cars = 3\n",
    "np.random.randint(0,high=5,size=(2,num_cars))\n",
    "inittaxi()\n",
    "\n",
    "cars = pd.DataFrame(data=[[0,1,2,1,1],[2,4,1,2,0],[1,0,1,2,1]],\n",
    "                    index=['car' + str(i + 1) for i in range(num_cars)],\n",
    "                    columns=['X location', 'Y location', 'Base Price', 'Price/min', 'Available']\n",
    "                   )\n"
   ]
  },
  {
   "cell_type": "code",
   "execution_count": null,
   "id": "3d9e29a6-a8b8-4759-b187-f150d3f0d2ee",
   "metadata": {},
   "outputs": [],
   "source": []
  }
 ],
 "metadata": {
  "kernelspec": {
   "display_name": "Python 3 (ipykernel)",
   "language": "python",
   "name": "python3"
  },
  "language_info": {
   "codemirror_mode": {
    "name": "ipython",
    "version": 3
   },
   "file_extension": ".py",
   "mimetype": "text/x-python",
   "name": "python",
   "nbconvert_exporter": "python",
   "pygments_lexer": "ipython3",
   "version": "3.9.6"
  }
 },
 "nbformat": 4,
 "nbformat_minor": 5
}
