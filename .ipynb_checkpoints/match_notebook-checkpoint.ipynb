{
 "cells": [
  {
   "cell_type": "code",
   "execution_count": 111,
   "id": "a03adc58-0e74-4164-b761-00b618350746",
   "metadata": {},
   "outputs": [],
   "source": [
    "import pandas as pd\n",
    "\n",
    "passenger_destination = (0,0)\n",
    "passenger_loc = (1,1)\n",
    "\n",
    "cars = pd.DataFrame(data=[[0,1,2,1,1],[2,4,1,2,0],[1,0,1,2,1]],\n",
    "                    index=['car1','car2','car3'],\n",
    "                    columns=['X location', 'Y location', 'Base Price', 'Price/min', 'Available'])\n",
    "\n",
    "# cars = readTaxi()\n",
    "\n",
    "def available(cars):\n",
    "    '''Filters out unavailable cars.'''\n",
    "    cars = cars.loc[cars.Available==1]\n",
    "    if len(cars)==0:\n",
    "        return None\n",
    "    else:\n",
    "        return cars\n",
    "\n",
    "def match(passenger,cars):\n",
    "    ''' \n",
    "    Returns the (taxicab) distance of the passenger from each car in cars.\n",
    "    passenger = tuple representing the passenger location\n",
    "    cars = dataframe\n",
    "    \n",
    "    Distance metric can be altered to factor in road network type, driver costs.\n",
    "    '''\n",
    "    change_in_loc = cars.loc[:,['X location','Y location']] - passenger\n",
    "    distances = pd.DataFrame(data=change_in_loc.abs().sum(1),\n",
    "                         index=cars.index,\n",
    "                         columns=['Distance'])\n",
    "    match = distances.loc[distances.Distance==distances.Distance.min()]\n",
    "    if len(match)>1: # If there are multiple matches, we select one randomly.\n",
    "        match = match.sample(n=1)\n",
    "        return match.index[0]\n",
    "    else:\n",
    "        return match.index[0]"
   ]
  },
  {
   "cell_type": "code",
   "execution_count": null,
   "id": "78c10a02-7874-449e-9e74-99b1f0dadb86",
   "metadata": {},
   "outputs": [],
   "source": []
  }
 ],
 "metadata": {
  "kernelspec": {
   "display_name": "Python 3 (ipykernel)",
   "language": "python",
   "name": "python3"
  },
  "language_info": {
   "codemirror_mode": {
    "name": "ipython",
    "version": 3
   },
   "file_extension": ".py",
   "mimetype": "text/x-python",
   "name": "python",
   "nbconvert_exporter": "python",
   "pygments_lexer": "ipython3",
   "version": "3.9.6"
  }
 },
 "nbformat": 4,
 "nbformat_minor": 5
}
